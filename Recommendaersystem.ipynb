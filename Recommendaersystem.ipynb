{
  "nbformat": 4,
  "nbformat_minor": 0,
  "metadata": {
    "colab": {
      "name": "Recommendaersystem.ipynb",
      "provenance": [],
      "collapsed_sections": [],
      "authorship_tag": "ABX9TyOPx/vEA8ClINlmms6ggMBn",
      "include_colab_link": true
    },
    "kernelspec": {
      "name": "python3",
      "display_name": "Python 3"
    }
  },
  "cells": [
    {
      "cell_type": "markdown",
      "metadata": {
        "id": "view-in-github",
        "colab_type": "text"
      },
      "source": [
        "<a href=\"https://colab.research.google.com/github/SAR-bang/RecommenderSystem/blob/main/Recommendaersystem.ipynb\" target=\"_parent\"><img src=\"https://colab.research.google.com/assets/colab-badge.svg\" alt=\"Open In Colab\"/></a>"
      ]
    },
    {
      "cell_type": "code",
      "metadata": {
        "id": "IppRqk26azhs"
      },
      "source": [
        "# from google.colab import files\r\n",
        "# data_to_load = files.upload()"
      ],
      "execution_count": 155,
      "outputs": []
    },
    {
      "cell_type": "code",
      "metadata": {
        "id": "N9l7LuW_a7cv"
      },
      "source": [
        "import seaborn as sns\r\n",
        "from matplotlib import pyplot as plt\r\n",
        "import pandas as pd\r\n",
        "import numpy as np\r\n",
        "from scipy import sparse\r\n",
        "raw  = pd.read_csv(\"post_data.csv\")\r\n",
        "df = raw\r\n",
        "df = df.rename(columns={\"Valuable \":\"rating\"})"
      ],
      "execution_count": 156,
      "outputs": []
    },
    {
      "cell_type": "code",
      "metadata": {
        "id": "kJjEirqBeByZ",
        "colab": {
          "base_uri": "https://localhost:8080/",
          "height": 450
        },
        "outputId": "f1e52c5f-7c96-4816-9d00-90742de3f7ec"
      },
      "source": [
        "feed = df.groupby('user_id')\r\n",
        "feed.groups\r\n",
        "feed.count()"
      ],
      "execution_count": 157,
      "outputs": [
        {
          "output_type": "execute_result",
          "data": {
            "text/html": [
              "<div>\n",
              "<style scoped>\n",
              "    .dataframe tbody tr th:only-of-type {\n",
              "        vertical-align: middle;\n",
              "    }\n",
              "\n",
              "    .dataframe tbody tr th {\n",
              "        vertical-align: top;\n",
              "    }\n",
              "\n",
              "    .dataframe thead th {\n",
              "        text-align: right;\n",
              "    }\n",
              "</style>\n",
              "<table border=\"1\" class=\"dataframe\">\n",
              "  <thead>\n",
              "    <tr style=\"text-align: right;\">\n",
              "      <th></th>\n",
              "      <th>post_id</th>\n",
              "      <th>time_stamp</th>\n",
              "      <th>rating</th>\n",
              "    </tr>\n",
              "    <tr>\n",
              "      <th>user_id</th>\n",
              "      <th></th>\n",
              "      <th></th>\n",
              "      <th></th>\n",
              "    </tr>\n",
              "  </thead>\n",
              "  <tbody>\n",
              "    <tr>\n",
              "      <th>5eece14efc13ae6609000000</th>\n",
              "      <td>41</td>\n",
              "      <td>41</td>\n",
              "      <td>41</td>\n",
              "    </tr>\n",
              "    <tr>\n",
              "      <th>5eece14efc13ae6609000001</th>\n",
              "      <td>177</td>\n",
              "      <td>177</td>\n",
              "      <td>177</td>\n",
              "    </tr>\n",
              "    <tr>\n",
              "      <th>5eece14efc13ae6609000002</th>\n",
              "      <td>2</td>\n",
              "      <td>2</td>\n",
              "      <td>2</td>\n",
              "    </tr>\n",
              "    <tr>\n",
              "      <th>5eece14efc13ae6609000003</th>\n",
              "      <td>156</td>\n",
              "      <td>156</td>\n",
              "      <td>156</td>\n",
              "    </tr>\n",
              "    <tr>\n",
              "      <th>5eece14efc13ae6609000004</th>\n",
              "      <td>104</td>\n",
              "      <td>104</td>\n",
              "      <td>104</td>\n",
              "    </tr>\n",
              "    <tr>\n",
              "      <th>...</th>\n",
              "      <td>...</td>\n",
              "      <td>...</td>\n",
              "      <td>...</td>\n",
              "    </tr>\n",
              "    <tr>\n",
              "      <th>5eece14ffc13ae66090001ef</th>\n",
              "      <td>182</td>\n",
              "      <td>182</td>\n",
              "      <td>182</td>\n",
              "    </tr>\n",
              "    <tr>\n",
              "      <th>5eece14ffc13ae66090001f0</th>\n",
              "      <td>248</td>\n",
              "      <td>248</td>\n",
              "      <td>248</td>\n",
              "    </tr>\n",
              "    <tr>\n",
              "      <th>5eece14ffc13ae66090001f1</th>\n",
              "      <td>120</td>\n",
              "      <td>120</td>\n",
              "      <td>120</td>\n",
              "    </tr>\n",
              "    <tr>\n",
              "      <th>5eece14ffc13ae66090001f2</th>\n",
              "      <td>18</td>\n",
              "      <td>18</td>\n",
              "      <td>18</td>\n",
              "    </tr>\n",
              "    <tr>\n",
              "      <th>5eece14ffc13ae66090001f3</th>\n",
              "      <td>157</td>\n",
              "      <td>157</td>\n",
              "      <td>157</td>\n",
              "    </tr>\n",
              "  </tbody>\n",
              "</table>\n",
              "<p>500 rows × 3 columns</p>\n",
              "</div>"
            ],
            "text/plain": [
              "                          post_id  time_stamp  rating\n",
              "user_id                                              \n",
              "5eece14efc13ae6609000000       41          41      41\n",
              "5eece14efc13ae6609000001      177         177     177\n",
              "5eece14efc13ae6609000002        2           2       2\n",
              "5eece14efc13ae6609000003      156         156     156\n",
              "5eece14efc13ae6609000004      104         104     104\n",
              "...                           ...         ...     ...\n",
              "5eece14ffc13ae66090001ef      182         182     182\n",
              "5eece14ffc13ae66090001f0      248         248     248\n",
              "5eece14ffc13ae66090001f1      120         120     120\n",
              "5eece14ffc13ae66090001f2       18          18      18\n",
              "5eece14ffc13ae66090001f3      157         157     157\n",
              "\n",
              "[500 rows x 3 columns]"
            ]
          },
          "metadata": {
            "tags": []
          },
          "execution_count": 157
        }
      ]
    },
    {
      "cell_type": "code",
      "metadata": {
        "colab": {
          "base_uri": "https://localhost:8080/",
          "height": 450
        },
        "id": "YUchk0QBiUSy",
        "outputId": "fbf8c743-5600-4079-a2d8-c93b524e2e60"
      },
      "source": [
        "feed.nunique()"
      ],
      "execution_count": 158,
      "outputs": [
        {
          "output_type": "execute_result",
          "data": {
            "text/html": [
              "<div>\n",
              "<style scoped>\n",
              "    .dataframe tbody tr th:only-of-type {\n",
              "        vertical-align: middle;\n",
              "    }\n",
              "\n",
              "    .dataframe tbody tr th {\n",
              "        vertical-align: top;\n",
              "    }\n",
              "\n",
              "    .dataframe thead th {\n",
              "        text-align: right;\n",
              "    }\n",
              "</style>\n",
              "<table border=\"1\" class=\"dataframe\">\n",
              "  <thead>\n",
              "    <tr style=\"text-align: right;\">\n",
              "      <th></th>\n",
              "      <th>post_id</th>\n",
              "      <th>time_stamp</th>\n",
              "      <th>rating</th>\n",
              "    </tr>\n",
              "    <tr>\n",
              "      <th>user_id</th>\n",
              "      <th></th>\n",
              "      <th></th>\n",
              "      <th></th>\n",
              "    </tr>\n",
              "  </thead>\n",
              "  <tbody>\n",
              "    <tr>\n",
              "      <th>5eece14efc13ae6609000000</th>\n",
              "      <td>41</td>\n",
              "      <td>41</td>\n",
              "      <td>5</td>\n",
              "    </tr>\n",
              "    <tr>\n",
              "      <th>5eece14efc13ae6609000001</th>\n",
              "      <td>176</td>\n",
              "      <td>177</td>\n",
              "      <td>5</td>\n",
              "    </tr>\n",
              "    <tr>\n",
              "      <th>5eece14efc13ae6609000002</th>\n",
              "      <td>2</td>\n",
              "      <td>2</td>\n",
              "      <td>2</td>\n",
              "    </tr>\n",
              "    <tr>\n",
              "      <th>5eece14efc13ae6609000003</th>\n",
              "      <td>152</td>\n",
              "      <td>156</td>\n",
              "      <td>5</td>\n",
              "    </tr>\n",
              "    <tr>\n",
              "      <th>5eece14efc13ae6609000004</th>\n",
              "      <td>103</td>\n",
              "      <td>104</td>\n",
              "      <td>5</td>\n",
              "    </tr>\n",
              "    <tr>\n",
              "      <th>...</th>\n",
              "      <td>...</td>\n",
              "      <td>...</td>\n",
              "      <td>...</td>\n",
              "    </tr>\n",
              "    <tr>\n",
              "      <th>5eece14ffc13ae66090001ef</th>\n",
              "      <td>180</td>\n",
              "      <td>182</td>\n",
              "      <td>5</td>\n",
              "    </tr>\n",
              "    <tr>\n",
              "      <th>5eece14ffc13ae66090001f0</th>\n",
              "      <td>245</td>\n",
              "      <td>248</td>\n",
              "      <td>5</td>\n",
              "    </tr>\n",
              "    <tr>\n",
              "      <th>5eece14ffc13ae66090001f1</th>\n",
              "      <td>119</td>\n",
              "      <td>120</td>\n",
              "      <td>5</td>\n",
              "    </tr>\n",
              "    <tr>\n",
              "      <th>5eece14ffc13ae66090001f2</th>\n",
              "      <td>18</td>\n",
              "      <td>18</td>\n",
              "      <td>5</td>\n",
              "    </tr>\n",
              "    <tr>\n",
              "      <th>5eece14ffc13ae66090001f3</th>\n",
              "      <td>153</td>\n",
              "      <td>157</td>\n",
              "      <td>5</td>\n",
              "    </tr>\n",
              "  </tbody>\n",
              "</table>\n",
              "<p>500 rows × 3 columns</p>\n",
              "</div>"
            ],
            "text/plain": [
              "                          post_id  time_stamp  rating\n",
              "user_id                                              \n",
              "5eece14efc13ae6609000000       41          41       5\n",
              "5eece14efc13ae6609000001      176         177       5\n",
              "5eece14efc13ae6609000002        2           2       2\n",
              "5eece14efc13ae6609000003      152         156       5\n",
              "5eece14efc13ae6609000004      103         104       5\n",
              "...                           ...         ...     ...\n",
              "5eece14ffc13ae66090001ef      180         182       5\n",
              "5eece14ffc13ae66090001f0      245         248       5\n",
              "5eece14ffc13ae66090001f1      119         120       5\n",
              "5eece14ffc13ae66090001f2       18          18       5\n",
              "5eece14ffc13ae66090001f3      153         157       5\n",
              "\n",
              "[500 rows x 3 columns]"
            ]
          },
          "metadata": {
            "tags": []
          },
          "execution_count": 158
        }
      ]
    },
    {
      "cell_type": "code",
      "metadata": {
        "colab": {
          "base_uri": "https://localhost:8080/"
        },
        "id": "jDcXlmcaifuh",
        "outputId": "e018a6f8-9dd6-45ed-f3ef-1a6a6b338178"
      },
      "source": [
        "df.isnull().sum() # finds null value in each column"
      ],
      "execution_count": 159,
      "outputs": [
        {
          "output_type": "execute_result",
          "data": {
            "text/plain": [
              "user_id       0\n",
              "post_id       0\n",
              "time_stamp    0\n",
              "rating        0\n",
              "dtype: int64"
            ]
          },
          "metadata": {
            "tags": []
          },
          "execution_count": 159
        }
      ]
    },
    {
      "cell_type": "code",
      "metadata": {
        "id": "NL8kSAaolDfg"
      },
      "source": [
        "df.dropna(inplace=True)"
      ],
      "execution_count": 160,
      "outputs": []
    },
    {
      "cell_type": "code",
      "metadata": {
        "colab": {
          "base_uri": "https://localhost:8080/"
        },
        "id": "uaitjEpOlIYY",
        "outputId": "e876ba25-55f2-42d4-92d6-4c1b35d30706"
      },
      "source": [
        "df.isnull().sum()"
      ],
      "execution_count": 161,
      "outputs": [
        {
          "output_type": "execute_result",
          "data": {
            "text/plain": [
              "user_id       0\n",
              "post_id       0\n",
              "time_stamp    0\n",
              "rating        0\n",
              "dtype: int64"
            ]
          },
          "metadata": {
            "tags": []
          },
          "execution_count": 161
        }
      ]
    },
    {
      "cell_type": "code",
      "metadata": {
        "id": "QToWV2zrle6X"
      },
      "source": [
        "# mapping the values to 0 and 1 assuming values between1,2 and 3,4,5\r\n",
        "\r\n",
        "df['rating']= df['rating'].map({1:0,2:0,3:1,4:1,5:1})\r\n",
        "users = df['user_id'].unique()\r\n",
        "\r\n",
        "# df['user_id']= users.index"
      ],
      "execution_count": 162,
      "outputs": []
    },
    {
      "cell_type": "code",
      "metadata": {
        "id": "L3NCnizFnZ38"
      },
      "source": [
        "# embeddings = range(0,users)\r\n",
        "users = list(users)"
      ],
      "execution_count": 163,
      "outputs": []
    },
    {
      "cell_type": "code",
      "metadata": {
        "id": "BMvtguc_FxF7"
      },
      "source": [
        "users_series = pd.Series(df['user_id'].unique())\r\n",
        "index = users_series.index\r\n",
        "# index.map(users_series)\r\n",
        "for  i in range(df['user_id'].nunique()):\r\n",
        "  df['user_id'] = df['user_id'].replace(users[i],i)\r\n",
        "\r\n"
      ],
      "execution_count": 164,
      "outputs": []
    },
    {
      "cell_type": "code",
      "metadata": {
        "id": "wqdgznGdoAaX"
      },
      "source": [
        "# creating a new  df for UIR (user item ratings)\r\n",
        "# s1 = df['user_id']\r\n",
        "# s2 = df['post_id']\r\n",
        "# s3 = df['rating']\r\n",
        "# left = pd.DataFrame([s3],index=[s1])\r\n",
        "\r\n",
        "# right = pd.DataFrame([s3],index=[s2])"
      ],
      "execution_count": 165,
      "outputs": []
    },
    {
      "cell_type": "code",
      "metadata": {
        "id": "BfAwA4pbJApy"
      },
      "source": [
        "percent = int(len(df)*0.8)\r\n",
        "train_data = df[:percent]\r\n",
        "test_data = df[percent:]"
      ],
      "execution_count": 166,
      "outputs": []
    },
    {
      "cell_type": "code",
      "metadata": {
        "colab": {
          "base_uri": "https://localhost:8080/"
        },
        "id": "LrVQwhCubtVB",
        "outputId": "b325e3c6-ef5b-48dc-cb2c-908a30c885ea"
      },
      "source": [
        "no_rated_post_per_user = train_data.groupby(by=\"user_id\")[\"rating\"].count().sort_values(ascending=False)\r\n",
        "no_rated_post_per_user.head()"
      ],
      "execution_count": 167,
      "outputs": [
        {
          "output_type": "execute_result",
          "data": {
            "text/plain": [
              "user_id\n",
              "197    250\n",
              "231    240\n",
              "58     240\n",
              "84     240\n",
              "355    238\n",
              "Name: rating, dtype: int64"
            ]
          },
          "metadata": {
            "tags": []
          },
          "execution_count": 167
        }
      ]
    },
    {
      "cell_type": "code",
      "metadata": {
        "colab": {
          "base_uri": "https://localhost:8080/"
        },
        "id": "76YRNQgVbz72",
        "outputId": "f458fb0e-9a29-4aad-b1ad-9d250bc23f81"
      },
      "source": [
        "no_ratings_per_post = train_data.groupby(by = \"post_id\")[\"rating\"].count().sort_values(ascending = False)\r\n",
        "no_ratings_per_post.head()"
      ],
      "execution_count": 168,
      "outputs": [
        {
          "output_type": "execute_result",
          "data": {
            "text/plain": [
              "post_id\n",
              "612931747    22\n",
              "617669758    21\n",
              "429516537    21\n",
              "573552524    21\n",
              "177312133    21\n",
              "Name: rating, dtype: int64"
            ]
          },
          "metadata": {
            "tags": []
          },
          "execution_count": 168
        }
      ]
    },
    {
      "cell_type": "code",
      "metadata": {
        "id": "cNoJHO5XfNz-"
      },
      "source": [
        "def get_user_item_sparse_matrix(df):\r\n",
        "    sparse_data = sparse.csr_matrix((df.rating, (df.user_id, df.post_id)))\r\n",
        "    return type(df.rating)\r\n",
        "# get_user_item_sparse_matrix(train_data)\r\n",
        "df['rating'] = pd.to_numeric(df['rating'])\r\n",
        "df['post_id'] = pd.to_numeric(df['post_id'])\r\n",
        "# df['user_id'] = pd.to_numeric(df['user_id'])"
      ],
      "execution_count": 169,
      "outputs": []
    },
    {
      "cell_type": "code",
      "metadata": {
        "id": "NBIa16oXRpoG"
      },
      "source": [
        "def build_rating_sparse_tensor(ratings_df):\r\n",
        "  return tf.SparseTensor(\r\n",
        "      indices=ratings_df[['user_id','post_id']].values,\r\n",
        "      values=ratings_df['rating'].values,\r\n",
        "      dense_shape=[df.shape[0], df.shape[0]])"
      ],
      "execution_count": 170,
      "outputs": []
    },
    {
      "cell_type": "code",
      "metadata": {
        "colab": {
          "base_uri": "https://localhost:8080/"
        },
        "id": "VsaYDB6hTZ2o",
        "outputId": "ca4b3a66-0a23-4d70-b94a-0c05613b678b"
      },
      "source": [
        "df.shape"
      ],
      "execution_count": 171,
      "outputs": [
        {
          "output_type": "execute_result",
          "data": {
            "text/plain": [
              "(71800, 4)"
            ]
          },
          "metadata": {
            "tags": []
          },
          "execution_count": 171
        }
      ]
    },
    {
      "cell_type": "code",
      "metadata": {
        "id": "wEZ4uLg2SYii"
      },
      "source": [
        "del df['time_stamp']\r\n"
      ],
      "execution_count": 172,
      "outputs": []
    },
    {
      "cell_type": "code",
      "metadata": {
        "id": "-I5Z8tOCmcav"
      },
      "source": [
        "import tensorflow as tf\r\n",
        "\r\n",
        "train_sparse_data = build_rating_sparse_tensor(train_data)\r\n",
        "test_sparse_data = build_rating_sparse_tensor(test_data)\r\n",
        "\r\n"
      ],
      "execution_count": 173,
      "outputs": []
    },
    {
      "cell_type": "code",
      "metadata": {
        "colab": {
          "base_uri": "https://localhost:8080/"
        },
        "id": "RWx3h0sCdMlb",
        "outputId": "18b52169-c520-44c2-d666-f3c5f2609f5f"
      },
      "source": [
        "df.groupby('post_id')['rating'].mean().sort_values(ascending=False)"
      ],
      "execution_count": 174,
      "outputs": [
        {
          "output_type": "execute_result",
          "data": {
            "text/plain": [
              "post_id\n",
              "424361005    1.000000\n",
              "350131217    1.000000\n",
              "452656962    1.000000\n",
              "963345306    1.000000\n",
              "444036396    1.000000\n",
              "               ...   \n",
              "634786750    0.100000\n",
              "247297198    0.090909\n",
              "874539541    0.000000\n",
              "784948469    0.000000\n",
              "331207927    0.000000\n",
              "Name: rating, Length: 6000, dtype: float64"
            ]
          },
          "metadata": {
            "tags": []
          },
          "execution_count": 174
        }
      ]
    },
    {
      "cell_type": "code",
      "metadata": {
        "id": "libxCI-dUW0P"
      },
      "source": [
        "def sparse_mean_square_error(sparse_ratings, user_embeddings, movie_embeddings):\r\n",
        "  predictions = tf.gather_nd(\r\n",
        "      tf.matmul(user_embeddings, movie_embeddings, transpose_b=True),\r\n",
        "      sparse_ratings.indices)\r\n",
        "  loss = tf.losses.mean_squared_error(sparse_ratings.values, predictions)\r\n",
        "  return loss"
      ],
      "execution_count": 175,
      "outputs": []
    },
    {
      "cell_type": "code",
      "metadata": {
        "colab": {
          "base_uri": "https://localhost:8080/",
          "height": 235
        },
        "id": "ZOnh-wpAaRRp",
        "outputId": "5559b107-85a2-494e-d9b4-0e9a2dffd06e"
      },
      "source": [
        "ratings = pd.DataFrame(df.groupby('post_id')['rating'].mean())\r\n",
        "ratings['num of ratings'] = pd.DataFrame(df.groupby('post_id')['rating'].count())\r\n",
        "ratings.head()"
      ],
      "execution_count": 176,
      "outputs": [
        {
          "output_type": "execute_result",
          "data": {
            "text/html": [
              "<div>\n",
              "<style scoped>\n",
              "    .dataframe tbody tr th:only-of-type {\n",
              "        vertical-align: middle;\n",
              "    }\n",
              "\n",
              "    .dataframe tbody tr th {\n",
              "        vertical-align: top;\n",
              "    }\n",
              "\n",
              "    .dataframe thead th {\n",
              "        text-align: right;\n",
              "    }\n",
              "</style>\n",
              "<table border=\"1\" class=\"dataframe\">\n",
              "  <thead>\n",
              "    <tr style=\"text-align: right;\">\n",
              "      <th></th>\n",
              "      <th>rating</th>\n",
              "      <th>num of ratings</th>\n",
              "    </tr>\n",
              "    <tr>\n",
              "      <th>post_id</th>\n",
              "      <th></th>\n",
              "      <th></th>\n",
              "    </tr>\n",
              "  </thead>\n",
              "  <tbody>\n",
              "    <tr>\n",
              "      <th>10109921</th>\n",
              "      <td>0.571429</td>\n",
              "      <td>14</td>\n",
              "    </tr>\n",
              "    <tr>\n",
              "      <th>10164988</th>\n",
              "      <td>0.588235</td>\n",
              "      <td>17</td>\n",
              "    </tr>\n",
              "    <tr>\n",
              "      <th>10256424</th>\n",
              "      <td>0.500000</td>\n",
              "      <td>6</td>\n",
              "    </tr>\n",
              "    <tr>\n",
              "      <th>10260109</th>\n",
              "      <td>0.500000</td>\n",
              "      <td>6</td>\n",
              "    </tr>\n",
              "    <tr>\n",
              "      <th>10467477</th>\n",
              "      <td>0.428571</td>\n",
              "      <td>7</td>\n",
              "    </tr>\n",
              "  </tbody>\n",
              "</table>\n",
              "</div>"
            ],
            "text/plain": [
              "            rating  num of ratings\n",
              "post_id                           \n",
              "10109921  0.571429              14\n",
              "10164988  0.588235              17\n",
              "10256424  0.500000               6\n",
              "10260109  0.500000               6\n",
              "10467477  0.428571               7"
            ]
          },
          "metadata": {
            "tags": []
          },
          "execution_count": 176
        }
      ]
    },
    {
      "cell_type": "code",
      "metadata": {
        "colab": {
          "base_uri": "https://localhost:8080/",
          "height": 282
        },
        "id": "egE6wf_2Z6CG",
        "outputId": "00400a06-058c-40a0-e864-d30d485bd21b"
      },
      "source": [
        "plt.figure(figsize=(10,4))\r\n",
        "ratings['num of ratings'].hist(bins=70)"
      ],
      "execution_count": 177,
      "outputs": [
        {
          "output_type": "execute_result",
          "data": {
            "text/plain": [
              "<matplotlib.axes._subplots.AxesSubplot at 0x7fb177ef0470>"
            ]
          },
          "metadata": {
            "tags": []
          },
          "execution_count": 177
        },
        {
          "output_type": "display_data",
          "data": {
            "image/png": "[encoded data removed]",
            "text/plain": [
              "<Figure size 720x288 with 1 Axes>"
            ]
          },
          "metadata": {
            "tags": [],
            "needs_background": "light"
          }
        }
      ]
    },
    {
      "cell_type": "code",
      "metadata": {
        "colab": {
          "base_uri": "https://localhost:8080/",
          "height": 282
        },
        "id": "_R-5quYofrEv",
        "outputId": "fcc06fb5-b312-491c-f22b-6503de2a8be3"
      },
      "source": [
        "ratings['rating'].hist(bins=70)"
      ],
      "execution_count": 178,
      "outputs": [
        {
          "output_type": "execute_result",
          "data": {
            "text/plain": [
              "<matplotlib.axes._subplots.AxesSubplot at 0x7fb1782c2668>"
            ]
          },
          "metadata": {
            "tags": []
          },
          "execution_count": 178
        },
        {
          "output_type": "display_data",
          "data": {
            "image/png": "[encoded data removed]",
            "text/plain": [
              "<Figure size 432x288 with 1 Axes>"
            ]
          },
          "metadata": {
            "tags": [],
            "needs_background": "light"
          }
        }
      ]
    },
    {
      "cell_type": "code",
      "metadata": {
        "colab": {
          "base_uri": "https://localhost:8080/",
          "height": 390
        },
        "id": "Zy6kilQEf0Jb",
        "outputId": "0d764dde-1f86-45fd-8d00-0dcaccab37b0"
      },
      "source": [
        "post_mat = df.pivot_table(index='user_id',columns='post_id',values='rating')\r\n",
        "# post_mat = post_mat.fillna(0)\r\n",
        "ratings.sort_values('num of ratings', ascending = False).head(10) \r\n"
      ],
      "execution_count": 179,
      "outputs": [
        {
          "output_type": "execute_result",
          "data": {
            "text/html": [
              "<div>\n",
              "<style scoped>\n",
              "    .dataframe tbody tr th:only-of-type {\n",
              "        vertical-align: middle;\n",
              "    }\n",
              "\n",
              "    .dataframe tbody tr th {\n",
              "        vertical-align: top;\n",
              "    }\n",
              "\n",
              "    .dataframe thead th {\n",
              "        text-align: right;\n",
              "    }\n",
              "</style>\n",
              "<table border=\"1\" class=\"dataframe\">\n",
              "  <thead>\n",
              "    <tr style=\"text-align: right;\">\n",
              "      <th></th>\n",
              "      <th>rating</th>\n",
              "      <th>num of ratings</th>\n",
              "    </tr>\n",
              "    <tr>\n",
              "      <th>post_id</th>\n",
              "      <th></th>\n",
              "      <th></th>\n",
              "    </tr>\n",
              "  </thead>\n",
              "  <tbody>\n",
              "    <tr>\n",
              "      <th>926110568</th>\n",
              "      <td>0.708333</td>\n",
              "      <td>24</td>\n",
              "    </tr>\n",
              "    <tr>\n",
              "      <th>805157710</th>\n",
              "      <td>0.541667</td>\n",
              "      <td>24</td>\n",
              "    </tr>\n",
              "    <tr>\n",
              "      <th>177312133</th>\n",
              "      <td>0.500000</td>\n",
              "      <td>24</td>\n",
              "    </tr>\n",
              "    <tr>\n",
              "      <th>55715945</th>\n",
              "      <td>0.416667</td>\n",
              "      <td>24</td>\n",
              "    </tr>\n",
              "    <tr>\n",
              "      <th>61669231</th>\n",
              "      <td>0.869565</td>\n",
              "      <td>23</td>\n",
              "    </tr>\n",
              "    <tr>\n",
              "      <th>41361372</th>\n",
              "      <td>0.608696</td>\n",
              "      <td>23</td>\n",
              "    </tr>\n",
              "    <tr>\n",
              "      <th>617669758</th>\n",
              "      <td>0.782609</td>\n",
              "      <td>23</td>\n",
              "    </tr>\n",
              "    <tr>\n",
              "      <th>408118198</th>\n",
              "      <td>0.695652</td>\n",
              "      <td>23</td>\n",
              "    </tr>\n",
              "    <tr>\n",
              "      <th>94111361</th>\n",
              "      <td>0.608696</td>\n",
              "      <td>23</td>\n",
              "    </tr>\n",
              "    <tr>\n",
              "      <th>499468997</th>\n",
              "      <td>0.608696</td>\n",
              "      <td>23</td>\n",
              "    </tr>\n",
              "  </tbody>\n",
              "</table>\n",
              "</div>"
            ],
            "text/plain": [
              "             rating  num of ratings\n",
              "post_id                            \n",
              "926110568  0.708333              24\n",
              "805157710  0.541667              24\n",
              "177312133  0.500000              24\n",
              "55715945   0.416667              24\n",
              "61669231   0.869565              23\n",
              "41361372   0.608696              23\n",
              "617669758  0.782609              23\n",
              "408118198  0.695652              23\n",
              "94111361   0.608696              23\n",
              "499468997  0.608696              23"
            ]
          },
          "metadata": {
            "tags": []
          },
          "execution_count": 179
        }
      ]
    },
    {
      "cell_type": "code",
      "metadata": {
        "id": "csc_ZdawgaBs"
      },
      "source": [
        "test_ratings = post_mat[612931747]\r\n",
        "test2_ratings = post_mat[41361372\t]"
      ],
      "execution_count": 180,
      "outputs": []
    },
    {
      "cell_type": "code",
      "metadata": {
        "colab": {
          "base_uri": "https://localhost:8080/",
          "height": 518
        },
        "id": "iugbsGdxstJ3",
        "outputId": "9e163474-0ca4-4564-ad02-ab12c9f7b3ee"
      },
      "source": [
        "similar_to_post1 = post_mat.corrwith(test_ratings)\r\n",
        "corr_post1 = pd.DataFrame(similar_to_post1,columns=['Correlation'])\r\n",
        "corr_post1.dropna(inplace=True)\r\n",
        "corr_post1"
      ],
      "execution_count": 181,
      "outputs": [
        {
          "output_type": "stream",
          "text": [
            "/usr/local/lib/python3.6/dist-packages/numpy/lib/function_base.py:2551: RuntimeWarning: Degrees of freedom <= 0 for slice\n",
            "  c = cov(x, y, rowvar)\n",
            "/usr/local/lib/python3.6/dist-packages/numpy/lib/function_base.py:2480: RuntimeWarning: divide by zero encountered in true_divide\n",
            "  c *= np.true_divide(1, fact)\n"
          ],
          "name": "stderr"
        },
        {
          "output_type": "execute_result",
          "data": {
            "text/html": [
              "<div>\n",
              "<style scoped>\n",
              "    .dataframe tbody tr th:only-of-type {\n",
              "        vertical-align: middle;\n",
              "    }\n",
              "\n",
              "    .dataframe tbody tr th {\n",
              "        vertical-align: top;\n",
              "    }\n",
              "\n",
              "    .dataframe thead th {\n",
              "        text-align: right;\n",
              "    }\n",
              "</style>\n",
              "<table border=\"1\" class=\"dataframe\">\n",
              "  <thead>\n",
              "    <tr style=\"text-align: right;\">\n",
              "      <th></th>\n",
              "      <th>Correlation</th>\n",
              "    </tr>\n",
              "    <tr>\n",
              "      <th>post_id</th>\n",
              "      <th></th>\n",
              "    </tr>\n",
              "  </thead>\n",
              "  <tbody>\n",
              "    <tr>\n",
              "      <th>10977171</th>\n",
              "      <td>0.866025</td>\n",
              "    </tr>\n",
              "    <tr>\n",
              "      <th>13766583</th>\n",
              "      <td>1.000000</td>\n",
              "    </tr>\n",
              "    <tr>\n",
              "      <th>15166848</th>\n",
              "      <td>-1.000000</td>\n",
              "    </tr>\n",
              "    <tr>\n",
              "      <th>16181605</th>\n",
              "      <td>-0.500000</td>\n",
              "    </tr>\n",
              "    <tr>\n",
              "      <th>17656010</th>\n",
              "      <td>1.000000</td>\n",
              "    </tr>\n",
              "    <tr>\n",
              "      <th>...</th>\n",
              "      <td>...</td>\n",
              "    </tr>\n",
              "    <tr>\n",
              "      <th>986648213</th>\n",
              "      <td>1.000000</td>\n",
              "    </tr>\n",
              "    <tr>\n",
              "      <th>988187942</th>\n",
              "      <td>-1.000000</td>\n",
              "    </tr>\n",
              "    <tr>\n",
              "      <th>990469647</th>\n",
              "      <td>1.000000</td>\n",
              "    </tr>\n",
              "    <tr>\n",
              "      <th>994505853</th>\n",
              "      <td>1.000000</td>\n",
              "    </tr>\n",
              "    <tr>\n",
              "      <th>995627091</th>\n",
              "      <td>1.000000</td>\n",
              "    </tr>\n",
              "  </tbody>\n",
              "</table>\n",
              "<p>256 rows × 1 columns</p>\n",
              "</div>"
            ],
            "text/plain": [
              "           Correlation\n",
              "post_id               \n",
              "10977171      0.866025\n",
              "13766583      1.000000\n",
              "15166848     -1.000000\n",
              "16181605     -0.500000\n",
              "17656010      1.000000\n",
              "...                ...\n",
              "986648213     1.000000\n",
              "988187942    -1.000000\n",
              "990469647     1.000000\n",
              "994505853     1.000000\n",
              "995627091     1.000000\n",
              "\n",
              "[256 rows x 1 columns]"
            ]
          },
          "metadata": {
            "tags": []
          },
          "execution_count": 181
        }
      ]
    },
    {
      "cell_type": "code",
      "metadata": {
        "id": "IZt5FaU9to9i"
      },
      "source": [
        "corr_post1.sort_values('Correlation',ascending=False).head()\r\n",
        "corr_post1 = corr_post1.join(ratings['num of ratings'])\r\n",
        "corr_post1.head()\r\n",
        "# sorting \r\n"
      ],
      "execution_count": null,
      "outputs": []
    },
    {
      "cell_type": "code",
      "metadata": {
        "colab": {
          "base_uri": "https://localhost:8080/",
          "height": 700
        },
        "id": "1Bij3CYwvK-o",
        "outputId": "80c610f4-47b1-44a6-e8f5-af63666bb1fb"
      },
      "source": [
        "corr_post1[corr_post1['num of ratings']>10].sort_values('Correlation', ascending = False).head(20) "
      ],
      "execution_count": 191,
      "outputs": [
        {
          "output_type": "execute_result",
          "data": {
            "text/html": [
              "<div>\n",
              "<style scoped>\n",
              "    .dataframe tbody tr th:only-of-type {\n",
              "        vertical-align: middle;\n",
              "    }\n",
              "\n",
              "    .dataframe tbody tr th {\n",
              "        vertical-align: top;\n",
              "    }\n",
              "\n",
              "    .dataframe thead th {\n",
              "        text-align: right;\n",
              "    }\n",
              "</style>\n",
              "<table border=\"1\" class=\"dataframe\">\n",
              "  <thead>\n",
              "    <tr style=\"text-align: right;\">\n",
              "      <th></th>\n",
              "      <th>Correlation</th>\n",
              "      <th>num of ratings</th>\n",
              "    </tr>\n",
              "    <tr>\n",
              "      <th>post_id</th>\n",
              "      <th></th>\n",
              "      <th></th>\n",
              "    </tr>\n",
              "  </thead>\n",
              "  <tbody>\n",
              "    <tr>\n",
              "      <th>352196548</th>\n",
              "      <td>1.0</td>\n",
              "      <td>15</td>\n",
              "    </tr>\n",
              "    <tr>\n",
              "      <th>851647505</th>\n",
              "      <td>1.0</td>\n",
              "      <td>15</td>\n",
              "    </tr>\n",
              "    <tr>\n",
              "      <th>474858331</th>\n",
              "      <td>1.0</td>\n",
              "      <td>11</td>\n",
              "    </tr>\n",
              "    <tr>\n",
              "      <th>408118198</th>\n",
              "      <td>1.0</td>\n",
              "      <td>23</td>\n",
              "    </tr>\n",
              "    <tr>\n",
              "      <th>497232331</th>\n",
              "      <td>1.0</td>\n",
              "      <td>15</td>\n",
              "    </tr>\n",
              "    <tr>\n",
              "      <th>796016985</th>\n",
              "      <td>1.0</td>\n",
              "      <td>11</td>\n",
              "    </tr>\n",
              "    <tr>\n",
              "      <th>548853287</th>\n",
              "      <td>1.0</td>\n",
              "      <td>15</td>\n",
              "    </tr>\n",
              "    <tr>\n",
              "      <th>540927384</th>\n",
              "      <td>1.0</td>\n",
              "      <td>13</td>\n",
              "    </tr>\n",
              "    <tr>\n",
              "      <th>190438362</th>\n",
              "      <td>1.0</td>\n",
              "      <td>15</td>\n",
              "    </tr>\n",
              "    <tr>\n",
              "      <th>532211756</th>\n",
              "      <td>1.0</td>\n",
              "      <td>17</td>\n",
              "    </tr>\n",
              "    <tr>\n",
              "      <th>514610399</th>\n",
              "      <td>1.0</td>\n",
              "      <td>20</td>\n",
              "    </tr>\n",
              "    <tr>\n",
              "      <th>455354369</th>\n",
              "      <td>1.0</td>\n",
              "      <td>11</td>\n",
              "    </tr>\n",
              "    <tr>\n",
              "      <th>495836839</th>\n",
              "      <td>1.0</td>\n",
              "      <td>16</td>\n",
              "    </tr>\n",
              "    <tr>\n",
              "      <th>212729692</th>\n",
              "      <td>1.0</td>\n",
              "      <td>13</td>\n",
              "    </tr>\n",
              "    <tr>\n",
              "      <th>218297823</th>\n",
              "      <td>1.0</td>\n",
              "      <td>13</td>\n",
              "    </tr>\n",
              "    <tr>\n",
              "      <th>184887112</th>\n",
              "      <td>1.0</td>\n",
              "      <td>13</td>\n",
              "    </tr>\n",
              "    <tr>\n",
              "      <th>490782603</th>\n",
              "      <td>1.0</td>\n",
              "      <td>17</td>\n",
              "    </tr>\n",
              "    <tr>\n",
              "      <th>551701888</th>\n",
              "      <td>1.0</td>\n",
              "      <td>11</td>\n",
              "    </tr>\n",
              "    <tr>\n",
              "      <th>486879074</th>\n",
              "      <td>1.0</td>\n",
              "      <td>15</td>\n",
              "    </tr>\n",
              "    <tr>\n",
              "      <th>478489417</th>\n",
              "      <td>1.0</td>\n",
              "      <td>13</td>\n",
              "    </tr>\n",
              "  </tbody>\n",
              "</table>\n",
              "</div>"
            ],
            "text/plain": [
              "           Correlation  num of ratings\n",
              "post_id                               \n",
              "352196548          1.0              15\n",
              "851647505          1.0              15\n",
              "474858331          1.0              11\n",
              "408118198          1.0              23\n",
              "497232331          1.0              15\n",
              "796016985          1.0              11\n",
              "548853287          1.0              15\n",
              "540927384          1.0              13\n",
              "190438362          1.0              15\n",
              "532211756          1.0              17\n",
              "514610399          1.0              20\n",
              "455354369          1.0              11\n",
              "495836839          1.0              16\n",
              "212729692          1.0              13\n",
              "218297823          1.0              13\n",
              "184887112          1.0              13\n",
              "490782603          1.0              17\n",
              "551701888          1.0              11\n",
              "486879074          1.0              15\n",
              "478489417          1.0              13"
            ]
          },
          "metadata": {
            "tags": []
          },
          "execution_count": 191
        }
      ]
    },
    {
      "cell_type": "code",
      "metadata": {
        "id": "yq1Q2TTDBbdV"
      },
      "source": [
        ""
      ],
      "execution_count": 182,
      "outputs": []
    }
  ]
}